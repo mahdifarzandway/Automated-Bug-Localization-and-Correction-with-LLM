{
  "cells": [
    {
      "cell_type": "code",
      "execution_count": 1,
      "id": "00SIPURUh4xH",
      "metadata": {
        "colab": {
          "base_uri": "https://localhost:8080/"
        },
        "id": "00SIPURUh4xH",
        "outputId": "5302bd1c-617c-47e8-e7df-ae13b64a7931"
      },
      "outputs": [
        {
          "name": "stdout",
          "output_type": "stream",
          "text": [
            "Mounted at /content/drive\n"
          ]
        }
      ],
      "source": [
        "from google.colab import drive\n",
        "drive.mount('/content/drive')"
      ]
    },
    {
      "cell_type": "code",
      "execution_count": 34,
      "id": "PCLWFE1bQxjx",
      "metadata": {
        "id": "PCLWFE1bQxjx"
      },
      "outputs": [],
      "source": [
        "!mkdir /content/drive/MyDrive/langgraph-code-assistant/"
      ]
    },
    {
      "cell_type": "code",
      "execution_count": 35,
      "id": "sBYVvPZDiUWu",
      "metadata": {
        "id": "sBYVvPZDiUWu"
      },
      "outputs": [],
      "source": [
        "!wget http://www.comp.nus.edu.sg/~release/codeflaws/codeflaws.tar.gz\n",
        "!cp /content/codeflaws.tar.gz   /content/drive/MyDrive/langgraph-code-assistant/"
      ]
    },
    {
      "cell_type": "code",
      "execution_count": 6,
      "id": "u-EYdSb3PGrx",
      "metadata": {
        "id": "u-EYdSb3PGrx"
      },
      "outputs": [],
      "source": [
        "!tar xf ./codeflaws.tar.gz"
      ]
    },
    {
      "cell_type": "code",
      "execution_count": 7,
      "id": "951cdf09",
      "metadata": {
        "id": "951cdf09"
      },
      "outputs": [],
      "source": [
        "from IPython.display import clear_output\n",
        "!pip install -U langchain langchain_openai langgraph langchain_community\n",
        "clear_output()"
      ]
    },
    {
      "cell_type": "code",
      "execution_count": 8,
      "id": "9a44dadb",
      "metadata": {
        "id": "9a44dadb"
      },
      "outputs": [],
      "source": [
        "!git clone https://github.com/Suresoft-GLaDOS/SBFL\n",
        "%cd SBFL\n",
        "!pip install -r requirements.txt\n",
        "!pip install setuptools\n",
        "!python setup.py install\n",
        "%cd ../\n",
        "clear_output()"
      ]
    },
    {
      "cell_type": "code",
      "execution_count": 9,
      "id": "64de2fe1",
      "metadata": {
        "id": "64de2fe1"
      },
      "outputs": [],
      "source": [
        "import SBFL.sbfl.utils as sbfl_utils\n",
        "import SBFL.sbfl.base as sbfl_base"
      ]
    },
    {
      "cell_type": "code",
      "execution_count": 10,
      "id": "941ee4a5",
      "metadata": {
        "colab": {
          "base_uri": "https://localhost:8080/"
        },
        "id": "941ee4a5",
        "outputId": "6405dc8b-b6ab-4cd2-e7c3-6ec82071dd46"
      },
      "outputs": [
        {
          "name": "stdout",
          "output_type": "stream",
          "text": [
            "[1.         0.57735027 1.        ]\n"
          ]
        }
      ],
      "source": [
        "import numpy as np\n",
        "if __name__ == \"__main__\":\n",
        "    \"\"\"\n",
        "    X: coverage data\n",
        "    y: test results\n",
        "    \"\"\"\n",
        "    X = np.array([\n",
        "        [1,0,1], # coverage of test t0\n",
        "        [1,0,1], # coverage of test t1\n",
        "        [1,1,1]  # coverage of test t2\n",
        "    ], dtype=bool)\n",
        "\n",
        "    y = np.array([\n",
        "        0, # t0: PASS\n",
        "        0, # t1: FAIL\n",
        "        0  # t2: PASS\n",
        "    ], dtype=bool)\n",
        "\n",
        "    \"\"\"\n",
        "    Calculate the suspiciousness scores\n",
        "    \"\"\"\n",
        "    sbfl = sbfl_base.SBFL(formula='Ochiai')\n",
        "    print(sbfl.fit_predict(X, y))"
      ]
    },
    {
      "cell_type": "code",
      "execution_count": 11,
      "id": "d9332308",
      "metadata": {
        "colab": {
          "base_uri": "https://localhost:8080/"
        },
        "id": "d9332308",
        "outputId": "93c56f40-ecfc-4e33-fa79-9bf2e0c3044b"
      },
      "outputs": [
        {
          "name": "stderr",
          "output_type": "stream",
          "text": [
            "/usr/local/lib/python3.11/dist-packages/IPython/core/interactiveshell.py:3553: LangChainDeprecationWarning: As of langchain-core 0.3.0, LangChain uses pydantic v2 internally. The langchain_core.pydantic_v1 module was a compatibility shim for pydantic v1, and should no longer be used. Please update the code to import from Pydantic directly.\n",
            "\n",
            "For example, replace imports like: `from langchain_core.pydantic_v1 import BaseModel`\n",
            "with: `from pydantic import BaseModel`\n",
            "or the v1 compatibility namespace if you are working in a code base that has not been fully upgraded to pydantic 2 yet. \tfrom pydantic.v1 import BaseModel\n",
            "\n",
            "  exec(code_obj, self.user_global_ns, self.user_ns)\n"
          ]
        }
      ],
      "source": [
        "from langchain_core.pydantic_v1 import BaseModel, Field\n",
        "from langchain.prompts import ChatPromptTemplate\n",
        "from langchain_openai import ChatOpenAI\n",
        "\n",
        "from IPython.display import clear_output\n",
        "from pprint import pprint\n",
        "import collections\n",
        "import subprocess\n",
        "import itertools\n",
        "import shutil\n",
        "import random\n",
        "import json\n",
        "import uuid\n",
        "import tqdm\n",
        "import glob\n",
        "import time\n",
        "import os\n",
        "import re"
      ]
    },
    {
      "cell_type": "code",
      "execution_count": 37,
      "id": "ce4cf24c",
      "metadata": {
        "colab": {
          "base_uri": "https://localhost:8080/"
        },
        "id": "ce4cf24c",
        "outputId": "072c4c03-4af7-4baa-a738-476189e09229"
      },
      "outputs": [
        {
          "name": "stdout",
          "output_type": "stream",
          "text": [
            "meta-llama/open-router-llama-3.1-405b-instruct:free\n",
            "open-router-llama-3.1-405b-instruct:free\n"
          ]
        }
      ],
      "source": [
        "APPLY_SBFL = False\n",
        "WITHOUT_TESTCASES_EXEC = True\n",
        "COUNT_RETRY_OPENROUTER = 3\n",
        "# LLM_MODEL_NAME = \"meta-llama/open-router-llama-3.1-70b-instruct:free\"\n",
        "# LLM_MODEL_NAME = \"meta-llama/open-router-llama-3.2-90b-vision-instruct:free\"\n",
        "LLM_MODEL_NAME = \"meta-llama/open-router-llama-3.1-405b-instruct:free\"\n",
        "LLM_MODEL_NAME = (LLM_MODEL_NAME) + (\"-with-sbfl\" if APPLY_SBFL else \"\")\n",
        "\n",
        "\n",
        "LLM_MODEL_NAME_SPLIT = LLM_MODEL_NAME.split('/')[-1]\n",
        "STORE_GRAPH_IN_MEMORY = False\n",
        "USE_OLLAMA = True\n",
        "RUN_ON_COLAB = True\n",
        "RUN_ON_KAGGLE = False\n",
        "RUN_ON_WINDOWS = False\n",
        "CHECK_BEFORE_ASK = True\n",
        "if RUN_ON_KAGGLE:\n",
        "    PATH_FOR_RUNNING = '/kaggle/working'\n",
        "elif RUN_ON_COLAB:\n",
        "    PATH_FOR_RUNNING = '/content/drive/MyDrive/langgraph-code-assistant'\n",
        "else:\n",
        "    PATH_FOR_RUNNING = '.'\n",
        "\n",
        "print(LLM_MODEL_NAME)\n",
        "print(LLM_MODEL_NAME_SPLIT)"
      ]
    },
    {
      "cell_type": "code",
      "execution_count": 38,
      "id": "847e4770",
      "metadata": {
        "colab": {
          "base_uri": "https://localhost:8080/"
        },
        "id": "847e4770",
        "outputId": "7c165ba5-f61c-4b23-cf6a-118ffa7e1ec5"
      },
      "outputs": [
        {
          "name": "stdout",
          "output_type": "stream",
          "text": [
            "No module named 'langgraph.checkpoint.sqlite'\n"
          ]
        }
      ],
      "source": [
        "from typing import Dict, TypedDict, Optional, List, Set\n",
        "from langgraph.graph import END, StateGraph, START\n",
        "try:\n",
        "    from langgraph.checkpoint.sqlite import SqliteSaver\n",
        "except Exception as e:\n",
        "    print(e)\n",
        "    pass\n",
        "from langgraph.graph import StateGraph\n",
        "\n",
        "\n",
        "class GraphState(TypedDict):\n",
        "    llm_model_name: Optional[str]\n",
        "    code_file_path: Optional[str]\n",
        "    test_case_paths: List[str]\n",
        "    fail_test_cases: List[dict]\n",
        "    pass_test_cases: List[dict]\n",
        "    log_execution: Set[str]\n",
        "    code_have_error: Optional[bool]\n",
        "    next_node: Optional[str]\n",
        "    max_try_count: Optional[int]\n",
        "    try_count: Optional[int]\n",
        "    messages: List[tuple]\n",
        "    initial_failed_test_cases_count: Optional[int]\n",
        "    list_failed_test_cases_count: List[int]\n",
        "    initial_code_have_error: Optional[bool]\n",
        "    generated_code: Optional[str]\n",
        "    llm_tokens: Optional[int]\n",
        "    apply_sbfl: Optional[bool]\n",
        "    sbfl_formula: Optional[str]\n",
        "    sbfl_likelihood: Optional[float]\n",
        "    sbfl_result: Optional[str]"
      ]
    },
    {
      "cell_type": "code",
      "execution_count": 39,
      "id": "e71c1f4d",
      "metadata": {
        "id": "e71c1f4d"
      },
      "outputs": [],
      "source": [
        "def read_specific_file(path):\n",
        "    with open(path, 'r', encoding='utf-8') as f:\n",
        "        content_file = f.read()\n",
        "    return content_file\n",
        "\n",
        "\n",
        "def write_specific_file(path, content):\n",
        "    with open(path, 'w') as f:\n",
        "        f.write(content)\n",
        "\n",
        "\n",
        "def delete_specific_type_in_dir(directory_path = PATH_FOR_RUNNING, #'/kaggle/working',\n",
        "                                file_extensions = ['*.out', '*.gcno', '*.gcda']):\n",
        "            # Specify the directory\n",
        "            directory_path = directory_path\n",
        "            # Specify the file types\n",
        "            file_extensions = file_extensions\n",
        "            # Loop over each file type pattern\n",
        "            for file_extension in file_extensions:\n",
        "                # Construct the full path pattern\n",
        "                file_pattern = os.path.join(directory_path, file_extension)\n",
        "                # Find all files matching the pattern\n",
        "                files_to_remove = glob.glob(file_pattern)\n",
        "                # Remove each file\n",
        "                for file_path in files_to_remove:\n",
        "                    try:\n",
        "                        os.remove(file_path)\n",
        "                    except Exception as e:\n",
        "                        pass"
      ]
    },
    {
      "cell_type": "code",
      "execution_count": 40,
      "id": "6a3fec69",
      "metadata": {
        "id": "6a3fec69"
      },
      "outputs": [],
      "source": [
        "def extract_line_num_c_gcov_file(gcov_file):\n",
        "    dct_line_code = {}\n",
        "    try:\n",
        "        # Read gcov_file and extract line_number & code\n",
        "        with open(gcov_file, 'r') as gcov_fl:\n",
        "            for line in gcov_fl:\n",
        "                l_split = line.split(':')\n",
        "                if len(l_split) > 1:\n",
        "                    # parse the line\n",
        "                    hits = l_split[0].strip()\n",
        "                    line_num = int(l_split[1].strip())\n",
        "                    code = ':'.join(l_split[2:]).strip()\n",
        "                    if line_num > 0 and code != '':\n",
        "                        dct_line_code[line_num] = code\n",
        "\n",
        "    except StopIteration:\n",
        "        print('We can not find any gcov_file.')\n",
        "        raise ValueError('We can not find any gcov_file.')\n",
        "\n",
        "    return dct_line_code"
      ]
    },
    {
      "cell_type": "code",
      "execution_count": 41,
      "id": "2162f9ae",
      "metadata": {
        "id": "2162f9ae"
      },
      "outputs": [],
      "source": [
        "def compute_error_suspicious(dct_info, formulas=['Ochiai']):\n",
        "\n",
        "    assert 'Gcov_Dirs' in dct_info\n",
        "    assert 'Failed_Test_Cases' in dct_info\n",
        "\n",
        "    dct_gcov_dirs = dct_info['Gcov_Dirs']\n",
        "    lst_failed_test_cases = dct_info['Failed_Test_Cases']\n",
        "\n",
        "    gcov_files = {test:[] for test in dct_gcov_dirs}\n",
        "    for test in dct_gcov_dirs:\n",
        "        for path in os.listdir(dct_gcov_dirs[test]):\n",
        "            if path.endswith('.gcov'):\n",
        "                gcov_files[test].append(os.path.join(dct_gcov_dirs[test], path))\n",
        "\n",
        "    dct_weight_suspicious_line = dict.fromkeys(formulas, {})\n",
        "    if len(lst_failed_test_cases) > 0 :\n",
        "        cov_df = sbfl_utils.gcov_files_to_frame(gcov_files, only_covered=True, verbose=False)\n",
        "\n",
        "        for formula in formulas:\n",
        "            # We can change formula to 'Ochiai' or 'Tarantula' or 'Jaccard' or 'Kulczynski2' or ...\n",
        "            score_df = sbfl_utils.get_sbfl_scores_from_frame(cov_df,\n",
        "                                                            failing_tests=lst_failed_test_cases,\n",
        "                                                            sbfl = sbfl_base.SBFL(formula)\n",
        "                                                            )\n",
        "            score_df = score_df.reset_index()\n",
        "            dct_weight_suspicious_line[formula] = dict(zip(score_df['line'], score_df['score']))\n",
        "\n",
        "    return dct_weight_suspicious_line"
      ]
    },
    {
      "cell_type": "code",
      "execution_count": 42,
      "id": "85f7e20e",
      "metadata": {
        "id": "85f7e20e"
      },
      "outputs": [],
      "source": [
        "def check_code_with_test_cases(state):\n",
        "    fail_test_cases = []\n",
        "    pass_test_cases = []\n",
        "    log_execution = set()\n",
        "    try:\n",
        "        code_file_path = state.get('code_file_path', '')\n",
        "        test_case_paths = state.get('test_case_paths', [])\n",
        "        c_file_name = code_file_path.rsplit('/', 1)[-1][:-2]\n",
        "        if not code_file_path or not test_case_paths:\n",
        "            log_execution.add(\"Invalid code file path or test case paths.\")\n",
        "            return {\n",
        "                'log_execution': log_execution,\n",
        "                'code_have_error': None,\n",
        "                'fail_test_cases': fail_test_cases,\n",
        "                'pass_test_cases': pass_test_cases,\n",
        "                'initial_failed_test_cases_count': None,\n",
        "                'initial_code_have_error': None,\n",
        "                'sbfl_result': '',\n",
        "                'list_failed_test_cases_count': state.get('list_failed_test_cases_count', []),\n",
        "            }\n",
        "        # Define a 'dict' to store all gcov's directories\n",
        "        dct_gcov_dirs = {}\n",
        "        # Define a 'list' to store failed test_cases\n",
        "        lst_failed_test_cases = []\n",
        "        # Call to extract line of code\n",
        "        call_extract_line_num_c_gcov = True\n",
        "        # Apply and use SBFL\n",
        "        apply_sbfl = state.get('apply_sbfl', False)\n",
        "        sbfl_result = ''\n",
        "        # dct_line_code from gcov\n",
        "        dct_line_code = {}\n",
        "        for test_case_path in test_case_paths:\n",
        "            if 'input' in test_case_path:\n",
        "                input_file_test = test_case_path\n",
        "                output_file_test = test_case_path.replace('input', 'output')\n",
        "                # Read input/output test_case\n",
        "                content_in_file_test  = read_specific_file(path = input_file_test)\n",
        "                content_out_file_test = read_specific_file(path = output_file_test)\n",
        "                # Compile c_file\n",
        "                # Run the gcc command and capture the output (including warnings)\n",
        "                command = f'gcc -fprofile-arcs -ftest-coverage -fstack-protector-all {code_file_path} -o {c_file_name}.out -lm 2>&1'\n",
        "                result = subprocess.run(command, shell=True, capture_output=True, text=True)\n",
        "                # Store the warnings (and other output) in a variable\n",
        "                warnings_output = result.stdout\n",
        "                if warnings_output:\n",
        "                    log_execution.add(warnings_output)\n",
        "                # Run c_file and input test case\n",
        "                output_run_exe = \"Error\"\n",
        "                try:\n",
        "                    # Use timeout to terminate execution of program\n",
        "                    # If the program doesn't exit (for example have infinite loop)\n",
        "                    if RUN_ON_WINDOWS:\n",
        "                        output_run_exe =  os.popen(f'{c_file_name}.out < {input_file_test}').read()\n",
        "                    else:\n",
        "                        output_run_exe =  os.popen(f'timeout 2s ./{c_file_name}.out < {input_file_test}').read()\n",
        "\n",
        "\n",
        "                    if apply_sbfl:\n",
        "                        # Rename example.out-example.gcno -> example.gcno\n",
        "                        for f in os.listdir('.'):\n",
        "                            if len(f.split('.out-')) > 1:\n",
        "                                os.rename(f, f.split('.out-')[-1])\n",
        "                        # Copy *.c in the path that *.gcda & *.gcno exist\n",
        "                        # That we can run command : 'gcov *.c'\n",
        "                        shutil.copy(code_file_path, '.')\n",
        "                        # Extract name of test_case with 'rsplit()'\n",
        "                        test_case_name = input_file_test.rsplit('/', 1)[-1]\n",
        "                        # Run gcov on *.gcov.c\n",
        "                        os.system(f\"gcov {c_file_name}.c\")\n",
        "                        # Path of directory for store information\n",
        "                        dir_store_info = f'./{c_file_name}' #f'{PATH_FOR_RUNNING}/{c_file_name}'\n",
        "                        # Check all tmp files that created or NOT (gcov is valid or NOT)\n",
        "                        if all(f\"{c_file_name}{typ}\" in os.listdir('.') for typ in ['.c', '.gcno', '.gcda', '.c.gcov']):\n",
        "                            # Create directory for saving different *.gcov.c to use later\n",
        "                            directory = f'{dir_store_info}/{test_case_name}'\n",
        "                            if not os.path.exists(directory):\n",
        "                                os.makedirs(directory)\n",
        "                            # extract_line_num_c_gcov_file\n",
        "                            try:\n",
        "                                if call_extract_line_num_c_gcov:\n",
        "                                    dct_line_code = extract_line_num_c_gcov_file(gcov_file=f\"{c_file_name}.c.gcov\")\n",
        "                                    if dct_line_code != {}:\n",
        "                                        call_extract_line_num_c_gcov = False\n",
        "                            except Exception as e:\n",
        "                                call_extract_line_num_c_gcov = True\n",
        "                            # Move and store *.gcov result to created directory\n",
        "                            shutil.move(f\"{c_file_name}.c.gcov\", f\"{directory}/{c_file_name}.c.gcov\")\n",
        "                            # Store the directory of gcov result\n",
        "                            dct_gcov_dirs[test_case_name] = directory\n",
        "\n",
        "\n",
        "\n",
        "                except Exception as e:\n",
        "                    log_execution.add(repr(e))\n",
        "                    output_run_exe = 'Error'\n",
        "                # Compare True Vs. Execute answer\n",
        "                res_compare = (output_run_exe.strip() == content_out_file_test.strip())\n",
        "                # Define a 'dict' to store the information of c_file's execution and test_cases\n",
        "                dct_execute_info = {\n",
        "                    'Input_Data'  : content_in_file_test.strip(),\n",
        "                    'True_Ans'    : content_out_file_test.strip(),\n",
        "                    'Exec_Ans'    : output_run_exe.strip(),\n",
        "                    'Equal_Ans'   : res_compare\n",
        "                }\n",
        "                if res_compare:\n",
        "                    pass_test_cases.append(dct_execute_info)\n",
        "                else:\n",
        "                    fail_test_cases.append(dct_execute_info)\n",
        "\n",
        "                    if apply_sbfl:\n",
        "                        # Check if gcov exist in dirs then append test_case_name\n",
        "                        # Maybe we have error and don't havr gcov\n",
        "                        if test_case_name in dct_gcov_dirs:\n",
        "                            lst_failed_test_cases.append(test_case_name)\n",
        "\n",
        "                # Delete all files with the specified extensions in the given directory.\n",
        "                delete_specific_type_in_dir(\n",
        "                    directory_path = '.', #PATH_FOR_RUNNING, #'/kaggle/working',\n",
        "                    file_extensions = ['*.out', '*.gcno', '*.gcda', '*.c', '*.gcov'])\n",
        "\n",
        "        if apply_sbfl:\n",
        "            dct_info = {\n",
        "                'Gcov_Dirs': dct_gcov_dirs,\n",
        "                'Failed_Test_Cases': lst_failed_test_cases,\n",
        "            }\n",
        "\n",
        "            dct_score_code = {}\n",
        "            formula = state.get(\"sbfl_formula\", \"Ochiai\")\n",
        "            try:\n",
        "                dct_score_code = compute_error_suspicious(dct_info, formulas=[formula])\n",
        "            except Exception as e:\n",
        "                print(e)\n",
        "            # remove store gcov result\n",
        "            try:\n",
        "                shutil.rmtree(dir_store_info)\n",
        "            except FileNotFoundError:\n",
        "                print(f\"The folder does not exist: {dir_store_info}\")\n",
        "            except PermissionError:\n",
        "                print(f\"Permission denied: {dir_store_info}\")\n",
        "            except Exception as e:\n",
        "                print(f\"An error occurred: {e}\")\n",
        "\n",
        "            dct_line_code_score = {}\n",
        "            for key_line in dct_score_code.get(formula, {}):\n",
        "                    dct_line_code_score[key_line] = {\n",
        "                        'code': dct_line_code.get(key_line, ''),\n",
        "                        'score': dct_score_code.get(formula, {}).get(key_line, 0)\n",
        "                    }\n",
        "\n",
        "            sorted_dct_line_code_score = sorted(dct_line_code_score.items(), key=lambda x: x[1]['score'])[::-1]\n",
        "            filter_len = int( state.get(\"sbfl_likelihood\", 0.5) * len(sorted_dct_line_code_score))\n",
        "            sbfl_result = '\\n'.join(f\"{line} : {dct['code']}\" for line, dct in sorted_dct_line_code_score[:filter_len])\n",
        "\n",
        "\n",
        "        initial_failed_test_cases_count = state.get('initial_failed_test_cases_count', len(fail_test_cases))\n",
        "        initial_code_have_error = state.get('initial_code_have_error', len(fail_test_cases)>0)\n",
        "        list_failed_test_cases_count = state.get('list_failed_test_cases_count', [])\n",
        "        list_failed_test_cases_count.append(len(fail_test_cases))\n",
        "\n",
        "        return {\n",
        "            'list_failed_test_cases_count': list_failed_test_cases_count,\n",
        "            'fail_test_cases': fail_test_cases,\n",
        "            'pass_test_cases': pass_test_cases,\n",
        "            'log_execution': log_execution,\n",
        "            'code_have_error': (False if not fail_test_cases else True),\n",
        "            'initial_failed_test_cases_count': initial_failed_test_cases_count,\n",
        "            'initial_code_have_error': initial_code_have_error,\n",
        "            'sbfl_result': sbfl_result,\n",
        "        }\n",
        "    except Exception as e:\n",
        "        log_execution.add(repr(e))\n",
        "        return {'log_execution': log_execution,\n",
        "                'code_have_error': None,\n",
        "                'fail_test_cases': fail_test_cases,\n",
        "                'pass_test_cases': pass_test_cases,\n",
        "                'initial_failed_test_cases_count': None,\n",
        "                'initial_code_have_error': None,\n",
        "                'sbfl_result': '',\n",
        "                'list_failed_test_cases_count': state.get('list_failed_test_cases_count', []),\n",
        "        }"
      ]
    },
    {
      "cell_type": "code",
      "execution_count": 43,
      "id": "kWCTonwIcNwP",
      "metadata": {
        "id": "kWCTonwIcNwP"
      },
      "outputs": [],
      "source": [
        "from langchain_community.chat_models import ChatOpenAI\n",
        "\n",
        "class ChatOpenRouter(ChatOpenAI):\n",
        "    openai_api_base: str\n",
        "    openai_api_key: str\n",
        "    model_name: str\n",
        "\n",
        "    def __init__(self,\n",
        "                 model_name: str,\n",
        "                 openai_api_key: str = '',\n",
        "                 openai_api_base: str = \"https://openrouter.ai/api/v1\",\n",
        "                 **kwargs):\n",
        "        super().__init__(openai_api_base=openai_api_base,\n",
        "                         openai_api_key=openai_api_key,\n",
        "                         model_name=model_name, **kwargs)\n",
        "\n",
        "        print(openai_api_key)"
      ]
    },
    {
      "cell_type": "code",
      "execution_count": 44,
      "id": "V-4CAxpDr5bq",
      "metadata": {
        "id": "V-4CAxpDr5bq"
      },
      "outputs": [],
      "source": [
        "from itertools import cycle\n",
        "\n",
        "class GetAPIOpenRouter():\n",
        "    def __init__(self):\n",
        "        # List of available API keys\n",
        "        api_keys = [\n",
        "            \"api_keys_1\",\n",
        "            \"api_keys_2\",\n",
        "        ]\n",
        "\n",
        "        self.iter_api_keys = cycle(api_keys[::-1])\n",
        "        print(\"Count APIOpenRouter : \", len(api_keys))\n",
        "\n",
        "\n",
        "    def get_open_router_api_key(self):\n",
        "        openai_api_key = next(self.iter_api_keys)\n",
        "        return openai_api_key"
      ]
    },
    {
      "cell_type": "code",
      "execution_count": 45,
      "id": "LFW-P8SZLrEV",
      "metadata": {
        "id": "LFW-P8SZLrEV"
      },
      "outputs": [],
      "source": [
        "def test_open_router():\n",
        "    open_router_model_name = (\n",
        "        LLM_MODEL_NAME.replace(\"open-router-\", \"\").replace(\"-with-sbfl\", \"\")\n",
        "        if APPLY_SBFL\n",
        "        else\n",
        "        LLM_MODEL_NAME.replace(\"open-router-\", \"\")\n",
        "    )\n",
        "    cnt_retry = COUNT_RETRY_OPENROUTER\n",
        "    while cnt_retry:\n",
        "        try:\n",
        "            openai_api_key = get_api_open_router.get_open_router_api_key()\n",
        "            print(f\"Try {cnt_retry}, With {open_router_model_name}, By {openai_api_key}\")\n",
        "            llm = ChatOpenRouter(\n",
        "                model_name=open_router_model_name,\n",
        "                openai_api_key=openai_api_key,\n",
        "            )\n",
        "            prompt = ChatPromptTemplate.from_template(\"tell me a short joke about {topic}\")\n",
        "            openrouter_chain = prompt | llm\n",
        "            print(openrouter_chain.invoke({\"topic\": \"banana\"}))\n",
        "            return\n",
        "        except Exception as e:\n",
        "            if cnt_retry == 1:\n",
        "                raise ValueError(e)\n",
        "            time.sleep(10)\n",
        "            cnt_retry -= 1"
      ]
    },
    {
      "cell_type": "code",
      "execution_count": 47,
      "id": "RBY0PS7pP_GZ",
      "metadata": {
        "colab": {
          "base_uri": "https://localhost:8080/"
        },
        "id": "RBY0PS7pP_GZ",
        "outputId": "932440ca-2739-4e2d-e857-2f066bc55a82"
      },
      "outputs": [
        {
          "name": "stdout",
          "output_type": "stream",
          "text": [
            "Count APIOpenRouter :  2\n",
            "Try 3, With meta-llama/llama-3.1-405b-instruct:free, By api_keys_2\n",
            "api_keys_2\n",
            "Try 2, With meta-llama/llama-3.1-405b-instruct:free, By api_keys_1\n",
            "api_keys_1\n",
            "Try 1, With meta-llama/llama-3.1-405b-instruct:free, By api_keys_2\n",
            "api_keys_2\n",
            "Error code: 401 - {'error': {'message': 'No auth credentials found', 'code': 401}}\n"
          ]
        }
      ],
      "source": [
        "get_api_open_router = GetAPIOpenRouter()\n",
        "\n",
        "try:\n",
        "    test_open_router()\n",
        "except Exception as e:\n",
        "    if \"'NoneType' object is not iterable\" in repr(e):\n",
        "        print(\"open-router API is not reachable\")\n",
        "    print(e)\n",
        "    pass"
      ]
    },
    {
      "cell_type": "code",
      "execution_count": 48,
      "id": "cd76465c",
      "metadata": {
        "colab": {
          "base_uri": "https://localhost:8080/"
        },
        "id": "cd76465c",
        "outputId": "8457020c-0900-4fe3-b9bf-d7a44622e482"
      },
      "outputs": [
        {
          "name": "stdout",
          "output_type": "stream",
          "text": [
            "Count APIOpenRouter :  2\n"
          ]
        }
      ],
      "source": [
        "get_api_open_router = GetAPIOpenRouter()\n",
        "\n",
        "\n",
        "SYSTEM_PROMPT_REPAIR_FAULTY_CODE = \"\"\"You are a coding assistant. \\\n",
        "You have access to code and the results of its successful and unsuccessful executions on a number of test cases. \\\n",
        "Based on the results you observe, modify the faulty code so that all the successful test cases remain successful and the unsuccessful test cases produce results similar to the expected output, making the code error-free. \\\n",
        "Use the above unsuccessful and successful executions on a number of test cases to repair the faulty code.\n",
        "You should provide only the error-free code in the block without any explanation, like this: \\n\n",
        "```c\n",
        "#include <stdio.h>\n",
        "int main(int argc, char *argv[])\n",
        "{{\n",
        "    return 0;\n",
        "}}\n",
        "```\n",
        "\"\"\"\n",
        "\n",
        "\n",
        "SYSTEM_PROMPT_REPAIR_FAULTY_CODE_WITHOUT_TESTCASES_EXEC = \"\"\"You are a coding assistant with access to code. \\\n",
        "Your task is to identify and fix errors in the provided code. \\\n",
        "Respond with only the corrected, error-free code formatted within a code block, without any explanation or additional comments, like this: \\n\n",
        "```c\n",
        "#include <stdio.h>\n",
        "int main(int argc, char *argv[])\n",
        "{{\n",
        "    return 0;\n",
        "}}\n",
        "```\n",
        "\"\"\"\n",
        "\n",
        "USER_PROMPT_REPAIR_FAULTY_CODE_WITHOUT_SBFL = \"\"\"Here is the faulty code you need to repair:\n",
        "\\n --- \\n ```c\\n{code}``` \\n --- \\n\n",
        "Below are all available unsuccessful executions:\n",
        "\\n --- \\n {fail_test_cases} \\n --- \\n\n",
        "Below are all available successful executions:\n",
        "\\n --- \\n {pass_test_cases} \\n --- \\n\n",
        "Below are all available log of compiler and executions:\n",
        "\\n --- \\n {log_execution} \\n --- \\n\n",
        "Use the above unsuccessful and successful executions on a number of test cases to repair the faulty code.\n",
        "Please provide only the error-free code in the block without any explanation, like this: \\n\n",
        "```c\n",
        "#include <stdio.h>\n",
        "int main(int argc, char *argv[])\n",
        "{{\n",
        "    return 0;\n",
        "}}\n",
        "```\n",
        "\"\"\"\n",
        "\n",
        "USER_PROMPT_REPAIR_FAULTY_CODE_WITH_SBFL = \"\"\"The following faulty code contains errors identified using Spectrum-Based Fault Localization (SBFL) techniques. These techniques compute the likelihood of faults in specific lines of code based on statistical methods, pinpointing the most suspicious lines. Below is the code you need to repair:\n",
        "\\n --- \\n ```c\\n{code}``` \\n --- \\n\n",
        "Below are the SBFL results showing suspicious lines and their fault likelihood scores:\n",
        "\\n --- \\n {sbfl_results} \\n --- \\n\n",
        "Below are all available unsuccessful executions:\n",
        "\\n --- \\n {fail_test_cases} \\n --- \\n\n",
        "Below are all available successful executions:\n",
        "\\n --- \\n {pass_test_cases} \\n --- \\n\n",
        "Below are all available logs of compiler and executions:\n",
        "\\n --- \\n {log_execution} \\n --- \\n\n",
        "Utilize the above information, particularly the SBFL results and the unsuccessful/successful executions, to identify and repair the faulty code.\n",
        "Please provide only the error-free code in the following format, without any explanation:\n",
        "```c\n",
        "#include <stdio.h>\n",
        "int main(int argc, char *argv[])\n",
        "{{\n",
        "    return 0;\n",
        "}}\n",
        "```\n",
        "\"\"\"\n",
        "\n",
        "USER_PROMPT_REPAIR_FAULTY_CODE_WITHOUT_SBFL_WITHOUT_TESTCASES_EXEC = \"\"\"Here is the faulty code you need to repair:\n",
        "\\n --- \\n ```c\\n{code}``` \\n --- \\n\n",
        "Please provide only the error-free code in the block without any explanation, like this: \\n\n",
        "```c\n",
        "#include <stdio.h>\n",
        "int main(int argc, char *argv[])\n",
        "{{\n",
        "    return 0;\n",
        "}}\n",
        "```\n",
        "\"\"\"\n",
        "\n",
        "def test_cases_execution_to_str(lst_dct):\n",
        "    result = \"\"\n",
        "    for dct in lst_dct:\n",
        "        result += str(dct) + \"\\n\"\n",
        "    return result\n",
        "\n",
        "\n",
        "def repair_faulty_code(state):\n",
        "    prompt = ChatPromptTemplate.from_messages(\n",
        "    [\n",
        "            (\n",
        "                \"system\",\n",
        "                SYSTEM_PROMPT_REPAIR_FAULTY_CODE\n",
        "            ),\n",
        "            (\n",
        "                \"placeholder\",\n",
        "                \"{messages}\"\n",
        "            ),\n",
        "        ]\n",
        "    )\n",
        "    messages = state[\"messages\"]\n",
        "    lst_dct_fail_test_cases = state.get('fail_test_cases')\n",
        "    lst_dct_pass_test_cases = state.get('pass_test_cases')\n",
        "\n",
        "    if WITHOUT_TESTCASES_EXEC:\n",
        "        # Only pass faulty code and ask to fix code\n",
        "        USER_PROMPT_REPAIR_FAULTY_CODE = (\n",
        "            USER_PROMPT_REPAIR_FAULTY_CODE_WITHOUT_SBFL_WITHOUT_TESTCASES_EXEC.format(**{\n",
        "                'code': read_specific_file(path=state.get('code_file_path')),\n",
        "            })\n",
        "        )\n",
        "    else:\n",
        "        USER_PROMPT_REPAIR_FAULTY_CODE = (\n",
        "            USER_PROMPT_REPAIR_FAULTY_CODE_WITHOUT_SBFL.format(**{\n",
        "                'code': read_specific_file(path=state.get('code_file_path')),\n",
        "                'fail_test_cases': test_cases_execution_to_str(lst_dct=lst_dct_fail_test_cases),\n",
        "                'pass_test_cases': test_cases_execution_to_str(lst_dct=lst_dct_pass_test_cases),\n",
        "                'log_execution' : '\\n'.join(state.get('log_execution', ''))\n",
        "            })\n",
        "        )\n",
        "        if state.get(\"apply_sbfl\", False) == True:\n",
        "            USER_PROMPT_REPAIR_FAULTY_CODE = (\n",
        "                    USER_PROMPT_REPAIR_FAULTY_CODE_WITH_SBFL.format(**{\n",
        "                        'code': read_specific_file(path=state.get('code_file_path')),\n",
        "                        'sbfl_results': state.get('sbfl_result', ''),\n",
        "                        'fail_test_cases': test_cases_execution_to_str(lst_dct=lst_dct_fail_test_cases),\n",
        "                        'pass_test_cases': test_cases_execution_to_str(lst_dct=lst_dct_pass_test_cases),\n",
        "                        'log_execution' : '\\n'.join(state.get('log_execution', ''))\n",
        "                    })\n",
        "        )\n",
        "    messages += [\n",
        "        (\n",
        "            \"user\",\n",
        "            USER_PROMPT_REPAIR_FAULTY_CODE\n",
        "        )\n",
        "    ]\n",
        "\n",
        "    LLM_MODEL_NAME = state['llm_model_name']\n",
        "    LLM_MODEL_NAME_SPLIT = LLM_MODEL_NAME.split('/')[-1] + (\"-wo-testcases-exec\" if WITHOUT_TESTCASES_EXEC else \"\")\n",
        "    open_router_model_name = (\n",
        "        LLM_MODEL_NAME.replace(\"open-router-\", \"\").replace(\"-with-sbfl\", \"\")\n",
        "        if APPLY_SBFL\n",
        "        else\n",
        "        LLM_MODEL_NAME.replace(\"open-router-\", \"\")\n",
        "    )\n",
        "\n",
        "    cnt_retry = COUNT_RETRY_OPENROUTER\n",
        "    while cnt_retry:\n",
        "        try:\n",
        "            # Randomly select an API key\n",
        "            openai_api_key = get_api_open_router.get_open_router_api_key()\n",
        "            print(f\"Try {cnt_retry}, With {open_router_model_name}, By {openai_api_key}\")\n",
        "            llm = ChatOpenRouter(\n",
        "                model_name=open_router_model_name,\n",
        "                openai_api_key=openai_api_key\n",
        "            )\n",
        "            chain = (prompt | llm)\n",
        "            result = chain.invoke({'messages' : messages})\n",
        "            # Because we don't get an error\n",
        "            cnt_retry = 0\n",
        "        except Exception as e:\n",
        "            if cnt_retry == 1:\n",
        "                raise ValueError(e)\n",
        "            time.sleep(10)\n",
        "            cnt_retry -= 1\n",
        "\n",
        "    modified_code = re.findall(r\"```c(.*?)```\", result.content, re.DOTALL)[-1]\n",
        "    try_count = state.get('try_count', 0) + 1\n",
        "    os.makedirs(f'{PATH_FOR_RUNNING}/log-{LLM_MODEL_NAME_SPLIT}', exist_ok=True)\n",
        "    code_file_path = f\"{PATH_FOR_RUNNING}/log-{LLM_MODEL_NAME_SPLIT}/{state['code_file_path'].rsplit('/', 1)[-1][:-2].split('_', 1)[0]}_modified_code_try_{try_count}.c\" #f\"/kaggle/working/modified_code_try_{try_count}.c\"\n",
        "    write_specific_file(path=code_file_path, content=modified_code)\n",
        "    return {'code_file_path': code_file_path, 'try_count': try_count, 'generated_code': modified_code}"
      ]
    },
    {
      "cell_type": "code",
      "execution_count": 49,
      "id": "NEWcYwZN3m31",
      "metadata": {
        "id": "NEWcYwZN3m31"
      },
      "outputs": [],
      "source": [
        "def log_to_file(filename, log_entry):\n",
        "    \"\"\"\n",
        "    Append a dictionary log entry to a file.\n",
        "\n",
        "    :param filename: Name of the file where the log should be written.\n",
        "    :param log_entry: Dictionary containing the log entry.\n",
        "    \"\"\"\n",
        "    with open(filename, 'a') as file:\n",
        "        json_entry = json.dumps(log_entry)\n",
        "        file.write(json_entry + '\\n')"
      ]
    },
    {
      "cell_type": "code",
      "execution_count": 50,
      "id": "b7389bab",
      "metadata": {
        "id": "b7389bab"
      },
      "outputs": [],
      "source": [
        "def check_exist_error(state):\n",
        "    code_have_error = state.get('code_have_error', False)\n",
        "    try_count = state.get('try_count', 0)\n",
        "    max_try_count =  state.get('max_try_count', 5)\n",
        "    if code_have_error and (try_count < max_try_count):\n",
        "        return {'next_node' : \"repair_faulty_code\"}\n",
        "    return {'next_node' : \"finish\"}\n",
        "\n",
        "def decide_next_node(state):\n",
        "    return state.get('next_node', \"finish\")"
      ]
    },
    {
      "cell_type": "code",
      "execution_count": 51,
      "id": "e1ab9ce9",
      "metadata": {
        "colab": {
          "base_uri": "https://localhost:8080/"
        },
        "id": "e1ab9ce9",
        "outputId": "44106bd8-9105-411f-e1b9-7bd4f21dedde"
      },
      "outputs": [
        {
          "data": {
            "text/plain": [
              "<langgraph.graph.state.StateGraph at 0x7d35a9d69150>"
            ]
          },
          "execution_count": 51,
          "metadata": {},
          "output_type": "execute_result"
        }
      ],
      "source": [
        "workflow = StateGraph(GraphState)\n",
        "workflow.add_node(\"check_code_with_test_cases\", check_code_with_test_cases)\n",
        "workflow.add_node(\"repair_faulty_code\", repair_faulty_code)\n",
        "workflow.add_node(\"check_exist_error\", check_exist_error)\n",
        "\n",
        "workflow.add_edge(START, \"check_code_with_test_cases\")\n",
        "workflow.add_edge(\"check_code_with_test_cases\", \"check_exist_error\")\n",
        "workflow.add_conditional_edges(\n",
        "    \"check_exist_error\",\n",
        "    decide_next_node,\n",
        "    {\n",
        "        \"repair_faulty_code\": \"repair_faulty_code\",\n",
        "        \"finish\": END\n",
        "    }\n",
        ")\n",
        "workflow.add_edge(\"repair_faulty_code\", \"check_code_with_test_cases\")"
      ]
    },
    {
      "cell_type": "code",
      "execution_count": 52,
      "id": "e63ef5e3",
      "metadata": {
        "id": "e63ef5e3"
      },
      "outputs": [],
      "source": [
        "if STORE_GRAPH_IN_MEMORY:\n",
        "    # The checkpointer lets the graph persist its state\n",
        "    # this is a complete memory for the entire graph.\n",
        "    memory = SqliteSaver.from_conn_string(\":memory:\")\n",
        "    graph = workflow.compile(checkpointer=memory)\n",
        "else:\n",
        "    graph = workflow.compile()"
      ]
    },
    {
      "cell_type": "code",
      "execution_count": 53,
      "id": "01cbd769",
      "metadata": {
        "colab": {
          "base_uri": "https://localhost:8080/",
          "height": 389
        },
        "id": "01cbd769",
        "outputId": "7490be27-6cd3-47c4-c8f2-7f261cd738be"
      },
      "outputs": [
        {
          "data": {
            "image/png": "[encoded data removed]",
            "text/plain": [
              "<IPython.core.display.Image object>"
            ]
          },
          "metadata": {},
          "output_type": "display_data"
        }
      ],
      "source": [
        "from IPython.display import Image, display\n",
        "\n",
        "try:\n",
        "    display(Image(graph.get_graph(xray=True).draw_mermaid_png()))\n",
        "except Exception:\n",
        "    # This requires some extra dependencies and is optional\n",
        "    pass"
      ]
    },
    {
      "cell_type": "code",
      "execution_count": 54,
      "id": "9061f892",
      "metadata": {
        "id": "9061f892"
      },
      "outputs": [],
      "source": [
        "import signal\n",
        "\n",
        "class TimeoutException(Exception):\n",
        "    pass\n",
        "\n",
        "def timeout_handler(signum, frame):\n",
        "    raise TimeoutException(\"Code execution exceeded the timeout limit\")\n",
        "\n",
        "def run_with_timeout(timeout, func, *args, **kwargs):\n",
        "    # Set the signal handler for the SIGALRM signal\n",
        "    signal.signal(signal.SIGALRM, timeout_handler)\n",
        "    # Set the alarm for the specified timeout\n",
        "    signal.alarm(timeout)\n",
        "    try:\n",
        "        # Execute the function with the provided arguments\n",
        "        result = func(*args, **kwargs)\n",
        "    except TimeoutException as e:\n",
        "        raise e\n",
        "    finally:\n",
        "        # Cancel the alarm\n",
        "        signal.alarm(0)\n",
        "    return result"
      ]
    },
    {
      "cell_type": "code",
      "execution_count": 55,
      "id": "571c9e39",
      "metadata": {
        "id": "571c9e39"
      },
      "outputs": [],
      "source": [
        "if RUN_ON_WINDOWS:\n",
        "    %pip install func_timeout\n",
        "\n",
        "    import time\n",
        "    from func_timeout import func_timeout, FunctionTimedOut\n",
        "\n",
        "\n",
        "    def deff():\n",
        "        import time\n",
        "        time.sleep(10)\n",
        "        return 'hi'\n",
        "\n",
        "    try:\n",
        "        result = func_timeout(5, deff, args=())\n",
        "        print(result)\n",
        "    except:\n",
        "        print(\"Code execution exceeded the timeout limit\")\n",
        "\n",
        "    def run_with_timeout_win(timeout, func, *args):\n",
        "        try:\n",
        "            # Execute the function with the provided arguments\n",
        "            result = func_timeout(timeout, func, args = (*args,))\n",
        "            return result\n",
        "        except:\n",
        "            raise TimeoutException(\"Code execution exceeded the timeout limit\")"
      ]
    },
    {
      "cell_type": "code",
      "execution_count": 56,
      "id": "e2110033",
      "metadata": {
        "id": "e2110033"
      },
      "outputs": [],
      "source": [
        "COUNT_FIX_ERROR = 0\n",
        "COUNT_FAULTY_CODE = 0\n",
        "\n",
        "def log_to_file(filename, log_entry):\n",
        "    \"\"\"\n",
        "    Append a dictionary log entry to a file.\n",
        "\n",
        "    :param filename: Name of the file where the log should be written.\n",
        "    :param log_entry: Dictionary containing the log entry.\n",
        "    \"\"\"\n",
        "    with open(filename, 'a') as file:\n",
        "        json_entry = json.dumps(log_entry)\n",
        "        file.write(json_entry + '\\n')\n",
        "\n",
        "\n",
        "def find_and_store_paths(path):\n",
        "    # Store single or duplicated files (find input/output test_case)\n",
        "    dct_duplicated_file = collections.defaultdict(list)\n",
        "    for fl in glob.glob(f\"{path}/*\"):\n",
        "        tmp_fl = re.sub(r'(input)|(output)', '', fl)\n",
        "        if tmp_fl in dct_duplicated_file['unique_files']:\n",
        "            dct_duplicated_file['unique_files'].remove(tmp_fl)\n",
        "            dct_duplicated_file['duplicate_files'].append(fl)\n",
        "            fl = re.sub(r'\\b(input|output)\\b', lambda x: 'output' if x.group() == 'input' else 'input', fl)\n",
        "            dct_duplicated_file['duplicate_files'].append(fl)\n",
        "        elif not tmp_fl in dct_duplicated_file['unique_files']:\n",
        "            dct_duplicated_file['unique_files'].append(tmp_fl)\n",
        "    return dct_duplicated_file\n",
        "\n",
        "\n",
        "def graph_invoke_with_timeout(graph, inputs):\n",
        "    config_thread_id = {}\n",
        "    if STORE_GRAPH_IN_MEMORY:\n",
        "        thread_id = str(uuid.uuid4())\n",
        "        config_thread_id = {\"thread_id\": thread_id}\n",
        "    result = graph.invoke(inputs, config={**config_thread_id, \"recursion_limit\": 100})\n",
        "    return result\n",
        "\n",
        "def run_graph(graph, inputs):\n",
        "    global COUNT_FIX_ERROR\n",
        "    global COUNT_FAULTY_CODE\n",
        "    dct_log = {\n",
        "        'code_file_path' : (\n",
        "            \"/content/codeflaws\" + inputs['code_file_path'].split(\"codeflaws\")[-1]\n",
        "            if RUN_ON_WINDOWS\n",
        "            else inputs['code_file_path']\n",
        "        ),\n",
        "    }\n",
        "    try:\n",
        "        start_time = time.time()\n",
        "        if RUN_ON_WINDOWS:\n",
        "            result = run_with_timeout_win(60, graph_invoke_with_timeout, graph, inputs)\n",
        "        else:\n",
        "            result = run_with_timeout(600, graph_invoke_with_timeout, graph, inputs)\n",
        "        end_time = time.time()\n",
        "        dct_log = {\n",
        "            **dct_log,\n",
        "            'list_failed_test_cases_count': result['list_failed_test_cases_count'],\n",
        "            'apply_sbfl': result['apply_sbfl'],\n",
        "            'llm_model_name': inputs['llm_model_name'],\n",
        "            'initial_failed_test_cases_count': result['initial_failed_test_cases_count'],\n",
        "            'fail_test_cases': len(result['fail_test_cases']),\n",
        "            'initial_code_have_error': result['initial_code_have_error'],\n",
        "            'code_have_error': result['code_have_error'],\n",
        "            'try_count': result['try_count'],\n",
        "            'response_time': end_time - start_time,\n",
        "            'generated_code': result.get('generated_code', ''),\n",
        "            'log_execution': '\\n'.join(result['log_execution']),\n",
        "        }\n",
        "        COUNT_FIX_ERROR += (result['try_count']>0) and (result['code_have_error']==False)\n",
        "        COUNT_FAULTY_CODE += (result['try_count']>0)\n",
        "    except Exception as e:\n",
        "        dct_log = {\n",
        "            **dct_log,\n",
        "            'error': repr(e),\n",
        "        }\n",
        "        # The below line checks if the open-router API is not reachable, so we need to write it to the log file.\n",
        "        if \"'NoneType' object is not iterable\" in dct_log.get('error', \"\"):\n",
        "            print(\"open-router API is not reachable\")\n",
        "            return\n",
        "    LLM_MODEL_NAME = inputs['llm_model_name']\n",
        "    LLM_MODEL_NAME_SPLIT = LLM_MODEL_NAME.split('/')[-1] + (\"-wo-testcases-exec\" if WITHOUT_TESTCASES_EXEC else \"\")\n",
        "    log_to_file(f\"{PATH_FOR_RUNNING}/logfile-{LLM_MODEL_NAME_SPLIT}.txt\", dct_log)"
      ]
    },
    {
      "cell_type": "code",
      "execution_count": 57,
      "id": "7dTsssc6s3Zc",
      "metadata": {
        "colab": {
          "base_uri": "https://localhost:8080/",
          "height": 512
        },
        "id": "7dTsssc6s3Zc",
        "outputId": "9ecccb1a-3d01-4ff4-9c8d-594ba2bba34a"
      },
      "outputs": [
        {
          "name": "stderr",
          "output_type": "stream",
          "text": [
            "\r  0%|          | 1/3908 [01:16<83:06:47, 76.58s/it]"
          ]
        },
        {
          "name": "stdout",
          "output_type": "stream",
          "text": [
            "open-router-llama-3.1-70b-instruct:free-wo-testcases-exec\n",
            "2\n",
            "/content/codeflaws/14-B-bug-9606134-9606175/14-B-9606134.c\n",
            "Try 3, With meta-llama/llama-3.1-70b-instruct:free, By api_keys_1\n",
            "api_keys_1\n"
          ]
        },
        {
          "name": "stderr",
          "output_type": "stream",
          "text": [
            "\r  0%|          | 1/3908 [01:24<91:51:44, 84.64s/it]\n"
          ]
        },
        {
          "ename": "KeyboardInterrupt",
          "evalue": "",
          "output_type": "error",
          "traceback": [
            "\u001b[0;31m---------------------------------------------------------------------------\u001b[0m",
            "\u001b[0;31mAuthenticationError\u001b[0m                       Traceback (most recent call last)",
            "\u001b[0;32m<ipython-input-48-fab8fb826439>\u001b[0m in \u001b[0;36mrepair_faulty_code\u001b[0;34m(state)\u001b[0m\n\u001b[1;32m    159\u001b[0m             \u001b[0mchain\u001b[0m \u001b[0;34m=\u001b[0m \u001b[0;34m(\u001b[0m\u001b[0mprompt\u001b[0m \u001b[0;34m|\u001b[0m \u001b[0mllm\u001b[0m\u001b[0;34m)\u001b[0m\u001b[0;34m\u001b[0m\u001b[0;34m\u001b[0m\u001b[0m\n\u001b[0;32m--> 160\u001b[0;31m             \u001b[0mresult\u001b[0m \u001b[0;34m=\u001b[0m \u001b[0mchain\u001b[0m\u001b[0;34m.\u001b[0m\u001b[0minvoke\u001b[0m\u001b[0;34m(\u001b[0m\u001b[0;34m{\u001b[0m\u001b[0;34m'messages'\u001b[0m \u001b[0;34m:\u001b[0m \u001b[0mmessages\u001b[0m\u001b[0;34m}\u001b[0m\u001b[0;34m)\u001b[0m\u001b[0;34m\u001b[0m\u001b[0;34m\u001b[0m\u001b[0m\n\u001b[0m\u001b[1;32m    161\u001b[0m             \u001b[0;31m# Because we don't get an error\u001b[0m\u001b[0;34m\u001b[0m\u001b[0;34m\u001b[0m\u001b[0m\n",
            "\u001b[0;32m/usr/local/lib/python3.11/dist-packages/langchain_core/runnables/base.py\u001b[0m in \u001b[0;36minvoke\u001b[0;34m(self, input, config, **kwargs)\u001b[0m\n\u001b[1;32m   3028\u001b[0m                 \u001b[0;32melse\u001b[0m\u001b[0;34m:\u001b[0m\u001b[0;34m\u001b[0m\u001b[0;34m\u001b[0m\u001b[0m\n\u001b[0;32m-> 3029\u001b[0;31m                     \u001b[0minput\u001b[0m \u001b[0;34m=\u001b[0m \u001b[0mcontext\u001b[0m\u001b[0;34m.\u001b[0m\u001b[0mrun\u001b[0m\u001b[0;34m(\u001b[0m\u001b[0mstep\u001b[0m\u001b[0;34m.\u001b[0m\u001b[0minvoke\u001b[0m\u001b[0;34m,\u001b[0m \u001b[0minput\u001b[0m\u001b[0;34m,\u001b[0m \u001b[0mconfig\u001b[0m\u001b[0;34m)\u001b[0m\u001b[0;34m\u001b[0m\u001b[0;34m\u001b[0m\u001b[0m\n\u001b[0m\u001b[1;32m   3030\u001b[0m         \u001b[0;31m# finish the root run\u001b[0m\u001b[0;34m\u001b[0m\u001b[0;34m\u001b[0m\u001b[0m\n",
            "\u001b[0;32m/usr/local/lib/python3.11/dist-packages/langchain_core/language_models/chat_models.py\u001b[0m in \u001b[0;36minvoke\u001b[0;34m(self, input, config, stop, **kwargs)\u001b[0m\n\u001b[1;32m    284\u001b[0m             \u001b[0mChatGeneration\u001b[0m\u001b[0;34m,\u001b[0m\u001b[0;34m\u001b[0m\u001b[0;34m\u001b[0m\u001b[0m\n\u001b[0;32m--> 285\u001b[0;31m             self.generate_prompt(\n\u001b[0m\u001b[1;32m    286\u001b[0m                 \u001b[0;34m[\u001b[0m\u001b[0mself\u001b[0m\u001b[0;34m.\u001b[0m\u001b[0m_convert_input\u001b[0m\u001b[0;34m(\u001b[0m\u001b[0minput\u001b[0m\u001b[0;34m)\u001b[0m\u001b[0;34m]\u001b[0m\u001b[0;34m,\u001b[0m\u001b[0;34m\u001b[0m\u001b[0;34m\u001b[0m\u001b[0m\n",
            "\u001b[0;32m/usr/local/lib/python3.11/dist-packages/langchain_core/language_models/chat_models.py\u001b[0m in \u001b[0;36mgenerate_prompt\u001b[0;34m(self, prompts, stop, callbacks, **kwargs)\u001b[0m\n\u001b[1;32m    860\u001b[0m         \u001b[0mprompt_messages\u001b[0m \u001b[0;34m=\u001b[0m \u001b[0;34m[\u001b[0m\u001b[0mp\u001b[0m\u001b[0;34m.\u001b[0m\u001b[0mto_messages\u001b[0m\u001b[0;34m(\u001b[0m\u001b[0;34m)\u001b[0m \u001b[0;32mfor\u001b[0m \u001b[0mp\u001b[0m \u001b[0;32min\u001b[0m \u001b[0mprompts\u001b[0m\u001b[0;34m]\u001b[0m\u001b[0;34m\u001b[0m\u001b[0;34m\u001b[0m\u001b[0m\n\u001b[0;32m--> 861\u001b[0;31m         \u001b[0;32mreturn\u001b[0m \u001b[0mself\u001b[0m\u001b[0;34m.\u001b[0m\u001b[0mgenerate\u001b[0m\u001b[0;34m(\u001b[0m\u001b[0mprompt_messages\u001b[0m\u001b[0;34m,\u001b[0m \u001b[0mstop\u001b[0m\u001b[0;34m=\u001b[0m\u001b[0mstop\u001b[0m\u001b[0;34m,\u001b[0m \u001b[0mcallbacks\u001b[0m\u001b[0;34m=\u001b[0m\u001b[0mcallbacks\u001b[0m\u001b[0;34m,\u001b[0m \u001b[0;34m**\u001b[0m\u001b[0mkwargs\u001b[0m\u001b[0;34m)\u001b[0m\u001b[0;34m\u001b[0m\u001b[0;34m\u001b[0m\u001b[0m\n\u001b[0m\u001b[1;32m    862\u001b[0m \u001b[0;34m\u001b[0m\u001b[0m\n",
            "\u001b[0;32m/usr/local/lib/python3.11/dist-packages/langchain_core/language_models/chat_models.py\u001b[0m in \u001b[0;36mgenerate\u001b[0;34m(self, messages, stop, callbacks, tags, metadata, run_name, run_id, **kwargs)\u001b[0m\n\u001b[1;32m    690\u001b[0m                 results.append(\n\u001b[0;32m--> 691\u001b[0;31m                     self._generate_with_cache(\n\u001b[0m\u001b[1;32m    692\u001b[0m                         \u001b[0mm\u001b[0m\u001b[0;34m,\u001b[0m\u001b[0;34m\u001b[0m\u001b[0;34m\u001b[0m\u001b[0m\n",
            "\u001b[0;32m/usr/local/lib/python3.11/dist-packages/langchain_core/language_models/chat_models.py\u001b[0m in \u001b[0;36m_generate_with_cache\u001b[0;34m(self, messages, stop, run_manager, **kwargs)\u001b[0m\n\u001b[1;32m    925\u001b[0m             \u001b[0;32mif\u001b[0m \u001b[0minspect\u001b[0m\u001b[0;34m.\u001b[0m\u001b[0msignature\u001b[0m\u001b[0;34m(\u001b[0m\u001b[0mself\u001b[0m\u001b[0;34m.\u001b[0m\u001b[0m_generate\u001b[0m\u001b[0;34m)\u001b[0m\u001b[0;34m.\u001b[0m\u001b[0mparameters\u001b[0m\u001b[0;34m.\u001b[0m\u001b[0mget\u001b[0m\u001b[0;34m(\u001b[0m\u001b[0;34m\"run_manager\"\u001b[0m\u001b[0;34m)\u001b[0m\u001b[0;34m:\u001b[0m\u001b[0;34m\u001b[0m\u001b[0;34m\u001b[0m\u001b[0m\n\u001b[0;32m--> 926\u001b[0;31m                 result = self._generate(\n\u001b[0m\u001b[1;32m    927\u001b[0m                     \u001b[0mmessages\u001b[0m\u001b[0;34m,\u001b[0m \u001b[0mstop\u001b[0m\u001b[0;34m=\u001b[0m\u001b[0mstop\u001b[0m\u001b[0;34m,\u001b[0m \u001b[0mrun_manager\u001b[0m\u001b[0;34m=\u001b[0m\u001b[0mrun_manager\u001b[0m\u001b[0;34m,\u001b[0m \u001b[0;34m**\u001b[0m\u001b[0mkwargs\u001b[0m\u001b[0;34m\u001b[0m\u001b[0;34m\u001b[0m\u001b[0m\n",
            "\u001b[0;32m/usr/local/lib/python3.11/dist-packages/langchain_community/chat_models/openai.py\u001b[0m in \u001b[0;36m_generate\u001b[0;34m(self, messages, stop, run_manager, stream, **kwargs)\u001b[0m\n\u001b[1;32m    475\u001b[0m         }\n\u001b[0;32m--> 476\u001b[0;31m         response = self.completion_with_retry(\n\u001b[0m\u001b[1;32m    477\u001b[0m             \u001b[0mmessages\u001b[0m\u001b[0;34m=\u001b[0m\u001b[0mmessage_dicts\u001b[0m\u001b[0;34m,\u001b[0m \u001b[0mrun_manager\u001b[0m\u001b[0;34m=\u001b[0m\u001b[0mrun_manager\u001b[0m\u001b[0;34m,\u001b[0m \u001b[0;34m**\u001b[0m\u001b[0mparams\u001b[0m\u001b[0;34m\u001b[0m\u001b[0;34m\u001b[0m\u001b[0m\n",
            "\u001b[0;32m/usr/local/lib/python3.11/dist-packages/langchain_community/chat_models/openai.py\u001b[0m in \u001b[0;36mcompletion_with_retry\u001b[0;34m(self, run_manager, **kwargs)\u001b[0m\n\u001b[1;32m    386\u001b[0m         \u001b[0;32mif\u001b[0m \u001b[0mis_openai_v1\u001b[0m\u001b[0;34m(\u001b[0m\u001b[0;34m)\u001b[0m\u001b[0;34m:\u001b[0m\u001b[0;34m\u001b[0m\u001b[0;34m\u001b[0m\u001b[0m\n\u001b[0;32m--> 387\u001b[0;31m             \u001b[0;32mreturn\u001b[0m \u001b[0mself\u001b[0m\u001b[0;34m.\u001b[0m\u001b[0mclient\u001b[0m\u001b[0;34m.\u001b[0m\u001b[0mcreate\u001b[0m\u001b[0;34m(\u001b[0m\u001b[0;34m**\u001b[0m\u001b[0mkwargs\u001b[0m\u001b[0;34m)\u001b[0m\u001b[0;34m\u001b[0m\u001b[0;34m\u001b[0m\u001b[0m\n\u001b[0m\u001b[1;32m    388\u001b[0m \u001b[0;34m\u001b[0m\u001b[0m\n",
            "\u001b[0;32m/usr/local/lib/python3.11/dist-packages/openai/_utils/_utils.py\u001b[0m in \u001b[0;36mwrapper\u001b[0;34m(*args, **kwargs)\u001b[0m\n\u001b[1;32m    278\u001b[0m                 \u001b[0;32mraise\u001b[0m \u001b[0mTypeError\u001b[0m\u001b[0;34m(\u001b[0m\u001b[0mmsg\u001b[0m\u001b[0;34m)\u001b[0m\u001b[0;34m\u001b[0m\u001b[0;34m\u001b[0m\u001b[0m\n\u001b[0;32m--> 279\u001b[0;31m             \u001b[0;32mreturn\u001b[0m \u001b[0mfunc\u001b[0m\u001b[0;34m(\u001b[0m\u001b[0;34m*\u001b[0m\u001b[0margs\u001b[0m\u001b[0;34m,\u001b[0m \u001b[0;34m**\u001b[0m\u001b[0mkwargs\u001b[0m\u001b[0;34m)\u001b[0m\u001b[0;34m\u001b[0m\u001b[0;34m\u001b[0m\u001b[0m\n\u001b[0m\u001b[1;32m    280\u001b[0m \u001b[0;34m\u001b[0m\u001b[0m\n",
            "\u001b[0;32m/usr/local/lib/python3.11/dist-packages/openai/resources/chat/completions.py\u001b[0m in \u001b[0;36mcreate\u001b[0;34m(self, messages, model, audio, frequency_penalty, function_call, functions, logit_bias, logprobs, max_completion_tokens, max_tokens, metadata, modalities, n, parallel_tool_calls, prediction, presence_penalty, reasoning_effort, response_format, seed, service_tier, stop, store, stream, stream_options, temperature, tool_choice, tools, top_logprobs, top_p, user, extra_headers, extra_query, extra_body, timeout)\u001b[0m\n\u001b[1;32m    862\u001b[0m         \u001b[0mvalidate_response_format\u001b[0m\u001b[0;34m(\u001b[0m\u001b[0mresponse_format\u001b[0m\u001b[0;34m)\u001b[0m\u001b[0;34m\u001b[0m\u001b[0;34m\u001b[0m\u001b[0m\n\u001b[0;32m--> 863\u001b[0;31m         return self._post(\n\u001b[0m\u001b[1;32m    864\u001b[0m             \u001b[0;34m\"/chat/completions\"\u001b[0m\u001b[0;34m,\u001b[0m\u001b[0;34m\u001b[0m\u001b[0;34m\u001b[0m\u001b[0m\n",
            "\u001b[0;32m/usr/local/lib/python3.11/dist-packages/openai/_base_client.py\u001b[0m in \u001b[0;36mpost\u001b[0;34m(self, path, cast_to, body, options, files, stream, stream_cls)\u001b[0m\n\u001b[1;32m   1282\u001b[0m         )\n\u001b[0;32m-> 1283\u001b[0;31m         \u001b[0;32mreturn\u001b[0m \u001b[0mcast\u001b[0m\u001b[0;34m(\u001b[0m\u001b[0mResponseT\u001b[0m\u001b[0;34m,\u001b[0m \u001b[0mself\u001b[0m\u001b[0;34m.\u001b[0m\u001b[0mrequest\u001b[0m\u001b[0;34m(\u001b[0m\u001b[0mcast_to\u001b[0m\u001b[0;34m,\u001b[0m \u001b[0mopts\u001b[0m\u001b[0;34m,\u001b[0m \u001b[0mstream\u001b[0m\u001b[0;34m=\u001b[0m\u001b[0mstream\u001b[0m\u001b[0;34m,\u001b[0m \u001b[0mstream_cls\u001b[0m\u001b[0;34m=\u001b[0m\u001b[0mstream_cls\u001b[0m\u001b[0;34m)\u001b[0m\u001b[0;34m)\u001b[0m\u001b[0;34m\u001b[0m\u001b[0;34m\u001b[0m\u001b[0m\n\u001b[0m\u001b[1;32m   1284\u001b[0m \u001b[0;34m\u001b[0m\u001b[0m\n",
            "\u001b[0;32m/usr/local/lib/python3.11/dist-packages/openai/_base_client.py\u001b[0m in \u001b[0;36mrequest\u001b[0;34m(self, cast_to, options, remaining_retries, stream, stream_cls)\u001b[0m\n\u001b[1;32m    959\u001b[0m \u001b[0;34m\u001b[0m\u001b[0m\n\u001b[0;32m--> 960\u001b[0;31m         return self._request(\n\u001b[0m\u001b[1;32m    961\u001b[0m             \u001b[0mcast_to\u001b[0m\u001b[0;34m=\u001b[0m\u001b[0mcast_to\u001b[0m\u001b[0;34m,\u001b[0m\u001b[0;34m\u001b[0m\u001b[0;34m\u001b[0m\u001b[0m\n",
            "\u001b[0;32m/usr/local/lib/python3.11/dist-packages/openai/_base_client.py\u001b[0m in \u001b[0;36m_request\u001b[0;34m(self, cast_to, options, retries_taken, stream, stream_cls)\u001b[0m\n\u001b[1;32m   1063\u001b[0m             \u001b[0mlog\u001b[0m\u001b[0;34m.\u001b[0m\u001b[0mdebug\u001b[0m\u001b[0;34m(\u001b[0m\u001b[0;34m\"Re-raising status error\"\u001b[0m\u001b[0;34m)\u001b[0m\u001b[0;34m\u001b[0m\u001b[0;34m\u001b[0m\u001b[0m\n\u001b[0;32m-> 1064\u001b[0;31m             \u001b[0;32mraise\u001b[0m \u001b[0mself\u001b[0m\u001b[0;34m.\u001b[0m\u001b[0m_make_status_error_from_response\u001b[0m\u001b[0;34m(\u001b[0m\u001b[0merr\u001b[0m\u001b[0;34m.\u001b[0m\u001b[0mresponse\u001b[0m\u001b[0;34m)\u001b[0m \u001b[0;32mfrom\u001b[0m \u001b[0;32mNone\u001b[0m\u001b[0;34m\u001b[0m\u001b[0;34m\u001b[0m\u001b[0m\n\u001b[0m\u001b[1;32m   1065\u001b[0m \u001b[0;34m\u001b[0m\u001b[0m\n",
            "\u001b[0;31mAuthenticationError\u001b[0m: Error code: 401 - {'error': {'message': 'No auth credentials found', 'code': 401}}",
            "\nDuring handling of the above exception, another exception occurred:\n",
            "\u001b[0;31mKeyboardInterrupt\u001b[0m                         Traceback (most recent call last)",
            "\u001b[0;32m<ipython-input-57-93ba86e06e5d>\u001b[0m in \u001b[0;36m<cell line: 0>\u001b[0;34m()\u001b[0m\n\u001b[1;32m     57\u001b[0m                             \u001b[0;34m\"messages\"\u001b[0m\u001b[0;34m:\u001b[0m \u001b[0;34m[\u001b[0m\u001b[0;34m]\u001b[0m\u001b[0;34m\u001b[0m\u001b[0;34m\u001b[0m\u001b[0m\n\u001b[1;32m     58\u001b[0m                         }\n\u001b[0;32m---> 59\u001b[0;31m                         \u001b[0mrun_graph\u001b[0m\u001b[0;34m(\u001b[0m\u001b[0mgraph\u001b[0m\u001b[0;34m,\u001b[0m \u001b[0minputs\u001b[0m\u001b[0;34m)\u001b[0m\u001b[0;34m\u001b[0m\u001b[0;34m\u001b[0m\u001b[0m\n\u001b[0m\u001b[1;32m     60\u001b[0m             \u001b[0;32mtry\u001b[0m\u001b[0;34m:\u001b[0m\u001b[0;34m\u001b[0m\u001b[0;34m\u001b[0m\u001b[0m\n\u001b[1;32m     61\u001b[0m                 \u001b[0mprint\u001b[0m\u001b[0;34m(\u001b[0m\u001b[0;34mf\"{(COUNT_FIX_ERROR / COUNT_FAULTY_CODE)*100} %\"\u001b[0m\u001b[0;34m)\u001b[0m\u001b[0;34m\u001b[0m\u001b[0;34m\u001b[0m\u001b[0m\n",
            "\u001b[0;32m<ipython-input-56-282ac80a1af8>\u001b[0m in \u001b[0;36mrun_graph\u001b[0;34m(graph, inputs)\u001b[0m\n\u001b[1;32m     52\u001b[0m             \u001b[0mresult\u001b[0m \u001b[0;34m=\u001b[0m \u001b[0mrun_with_timeout_win\u001b[0m\u001b[0;34m(\u001b[0m\u001b[0;36m60\u001b[0m\u001b[0;34m,\u001b[0m \u001b[0mgraph_invoke_with_timeout\u001b[0m\u001b[0;34m,\u001b[0m \u001b[0mgraph\u001b[0m\u001b[0;34m,\u001b[0m \u001b[0minputs\u001b[0m\u001b[0;34m)\u001b[0m\u001b[0;34m\u001b[0m\u001b[0;34m\u001b[0m\u001b[0m\n\u001b[1;32m     53\u001b[0m         \u001b[0;32melse\u001b[0m\u001b[0;34m:\u001b[0m\u001b[0;34m\u001b[0m\u001b[0;34m\u001b[0m\u001b[0m\n\u001b[0;32m---> 54\u001b[0;31m             \u001b[0mresult\u001b[0m \u001b[0;34m=\u001b[0m \u001b[0mrun_with_timeout\u001b[0m\u001b[0;34m(\u001b[0m\u001b[0;36m600\u001b[0m\u001b[0;34m,\u001b[0m \u001b[0mgraph_invoke_with_timeout\u001b[0m\u001b[0;34m,\u001b[0m \u001b[0mgraph\u001b[0m\u001b[0;34m,\u001b[0m \u001b[0minputs\u001b[0m\u001b[0;34m)\u001b[0m\u001b[0;34m\u001b[0m\u001b[0;34m\u001b[0m\u001b[0m\n\u001b[0m\u001b[1;32m     55\u001b[0m         \u001b[0mend_time\u001b[0m \u001b[0;34m=\u001b[0m \u001b[0mtime\u001b[0m\u001b[0;34m.\u001b[0m\u001b[0mtime\u001b[0m\u001b[0;34m(\u001b[0m\u001b[0;34m)\u001b[0m\u001b[0;34m\u001b[0m\u001b[0;34m\u001b[0m\u001b[0m\n\u001b[1;32m     56\u001b[0m         dct_log = {\n",
            "\u001b[0;32m<ipython-input-54-7c2bebf4e209>\u001b[0m in \u001b[0;36mrun_with_timeout\u001b[0;34m(timeout, func, *args, **kwargs)\u001b[0m\n\u001b[1;32m     14\u001b[0m     \u001b[0;32mtry\u001b[0m\u001b[0;34m:\u001b[0m\u001b[0;34m\u001b[0m\u001b[0;34m\u001b[0m\u001b[0m\n\u001b[1;32m     15\u001b[0m         \u001b[0;31m# Execute the function with the provided arguments\u001b[0m\u001b[0;34m\u001b[0m\u001b[0;34m\u001b[0m\u001b[0m\n\u001b[0;32m---> 16\u001b[0;31m         \u001b[0mresult\u001b[0m \u001b[0;34m=\u001b[0m \u001b[0mfunc\u001b[0m\u001b[0;34m(\u001b[0m\u001b[0;34m*\u001b[0m\u001b[0margs\u001b[0m\u001b[0;34m,\u001b[0m \u001b[0;34m**\u001b[0m\u001b[0mkwargs\u001b[0m\u001b[0;34m)\u001b[0m\u001b[0;34m\u001b[0m\u001b[0;34m\u001b[0m\u001b[0m\n\u001b[0m\u001b[1;32m     17\u001b[0m     \u001b[0;32mexcept\u001b[0m \u001b[0mTimeoutException\u001b[0m \u001b[0;32mas\u001b[0m \u001b[0me\u001b[0m\u001b[0;34m:\u001b[0m\u001b[0;34m\u001b[0m\u001b[0;34m\u001b[0m\u001b[0m\n\u001b[1;32m     18\u001b[0m         \u001b[0;32mraise\u001b[0m \u001b[0me\u001b[0m\u001b[0;34m\u001b[0m\u001b[0;34m\u001b[0m\u001b[0m\n",
            "\u001b[0;32m<ipython-input-56-282ac80a1af8>\u001b[0m in \u001b[0;36mgraph_invoke_with_timeout\u001b[0;34m(graph, inputs)\u001b[0m\n\u001b[1;32m     34\u001b[0m         \u001b[0mthread_id\u001b[0m \u001b[0;34m=\u001b[0m \u001b[0mstr\u001b[0m\u001b[0;34m(\u001b[0m\u001b[0muuid\u001b[0m\u001b[0;34m.\u001b[0m\u001b[0muuid4\u001b[0m\u001b[0;34m(\u001b[0m\u001b[0;34m)\u001b[0m\u001b[0;34m)\u001b[0m\u001b[0;34m\u001b[0m\u001b[0;34m\u001b[0m\u001b[0m\n\u001b[1;32m     35\u001b[0m         \u001b[0mconfig_thread_id\u001b[0m \u001b[0;34m=\u001b[0m \u001b[0;34m{\u001b[0m\u001b[0;34m\"thread_id\"\u001b[0m\u001b[0;34m:\u001b[0m \u001b[0mthread_id\u001b[0m\u001b[0;34m}\u001b[0m\u001b[0;34m\u001b[0m\u001b[0;34m\u001b[0m\u001b[0m\n\u001b[0;32m---> 36\u001b[0;31m     \u001b[0mresult\u001b[0m \u001b[0;34m=\u001b[0m \u001b[0mgraph\u001b[0m\u001b[0;34m.\u001b[0m\u001b[0minvoke\u001b[0m\u001b[0;34m(\u001b[0m\u001b[0minputs\u001b[0m\u001b[0;34m,\u001b[0m \u001b[0mconfig\u001b[0m\u001b[0;34m=\u001b[0m\u001b[0;34m{\u001b[0m\u001b[0;34m**\u001b[0m\u001b[0mconfig_thread_id\u001b[0m\u001b[0;34m,\u001b[0m \u001b[0;34m\"recursion_limit\"\u001b[0m\u001b[0;34m:\u001b[0m \u001b[0;36m100\u001b[0m\u001b[0;34m}\u001b[0m\u001b[0;34m)\u001b[0m\u001b[0;34m\u001b[0m\u001b[0;34m\u001b[0m\u001b[0m\n\u001b[0m\u001b[1;32m     37\u001b[0m     \u001b[0;32mreturn\u001b[0m \u001b[0mresult\u001b[0m\u001b[0;34m\u001b[0m\u001b[0;34m\u001b[0m\u001b[0m\n\u001b[1;32m     38\u001b[0m \u001b[0;34m\u001b[0m\u001b[0m\n",
            "\u001b[0;32m/usr/local/lib/python3.11/dist-packages/langgraph/pregel/__init__.py\u001b[0m in \u001b[0;36minvoke\u001b[0;34m(self, input, config, stream_mode, output_keys, interrupt_before, interrupt_after, debug, **kwargs)\u001b[0m\n\u001b[1;32m   2365\u001b[0m         \u001b[0;32melse\u001b[0m\u001b[0;34m:\u001b[0m\u001b[0;34m\u001b[0m\u001b[0;34m\u001b[0m\u001b[0m\n\u001b[1;32m   2366\u001b[0m             \u001b[0mchunks\u001b[0m \u001b[0;34m=\u001b[0m \u001b[0;34m[\u001b[0m\u001b[0;34m]\u001b[0m\u001b[0;34m\u001b[0m\u001b[0;34m\u001b[0m\u001b[0m\n\u001b[0;32m-> 2367\u001b[0;31m         for chunk in self.stream(\n\u001b[0m\u001b[1;32m   2368\u001b[0m             \u001b[0minput\u001b[0m\u001b[0;34m,\u001b[0m\u001b[0;34m\u001b[0m\u001b[0;34m\u001b[0m\u001b[0m\n\u001b[1;32m   2369\u001b[0m             \u001b[0mconfig\u001b[0m\u001b[0;34m,\u001b[0m\u001b[0;34m\u001b[0m\u001b[0;34m\u001b[0m\u001b[0m\n",
            "\u001b[0;32m/usr/local/lib/python3.11/dist-packages/langgraph/pregel/__init__.py\u001b[0m in \u001b[0;36mstream\u001b[0;34m(self, input, config, stream_mode, output_keys, interrupt_before, interrupt_after, debug, subgraphs)\u001b[0m\n\u001b[1;32m   2022\u001b[0m                 \u001b[0;31m# with channel updates applied only at the transition between steps.\u001b[0m\u001b[0;34m\u001b[0m\u001b[0;34m\u001b[0m\u001b[0m\n\u001b[1;32m   2023\u001b[0m                 \u001b[0;32mwhile\u001b[0m \u001b[0mloop\u001b[0m\u001b[0;34m.\u001b[0m\u001b[0mtick\u001b[0m\u001b[0;34m(\u001b[0m\u001b[0minput_keys\u001b[0m\u001b[0;34m=\u001b[0m\u001b[0mself\u001b[0m\u001b[0;34m.\u001b[0m\u001b[0minput_channels\u001b[0m\u001b[0;34m)\u001b[0m\u001b[0;34m:\u001b[0m\u001b[0;34m\u001b[0m\u001b[0;34m\u001b[0m\u001b[0m\n\u001b[0;32m-> 2024\u001b[0;31m                     for _ in runner.tick(\n\u001b[0m\u001b[1;32m   2025\u001b[0m                         \u001b[0mloop\u001b[0m\u001b[0;34m.\u001b[0m\u001b[0mtasks\u001b[0m\u001b[0;34m.\u001b[0m\u001b[0mvalues\u001b[0m\u001b[0;34m(\u001b[0m\u001b[0;34m)\u001b[0m\u001b[0;34m,\u001b[0m\u001b[0;34m\u001b[0m\u001b[0;34m\u001b[0m\u001b[0m\n\u001b[1;32m   2026\u001b[0m                         \u001b[0mtimeout\u001b[0m\u001b[0;34m=\u001b[0m\u001b[0mself\u001b[0m\u001b[0;34m.\u001b[0m\u001b[0mstep_timeout\u001b[0m\u001b[0;34m,\u001b[0m\u001b[0;34m\u001b[0m\u001b[0;34m\u001b[0m\u001b[0m\n",
            "\u001b[0;32m/usr/local/lib/python3.11/dist-packages/langgraph/pregel/runner.py\u001b[0m in \u001b[0;36mtick\u001b[0;34m(self, tasks, reraise, timeout, retry_policy, get_waiter)\u001b[0m\n\u001b[1;32m    228\u001b[0m             \u001b[0mt\u001b[0m \u001b[0;34m=\u001b[0m \u001b[0mtasks\u001b[0m\u001b[0;34m[\u001b[0m\u001b[0;36m0\u001b[0m\u001b[0;34m]\u001b[0m\u001b[0;34m\u001b[0m\u001b[0;34m\u001b[0m\u001b[0m\n\u001b[1;32m    229\u001b[0m             \u001b[0;32mtry\u001b[0m\u001b[0;34m:\u001b[0m\u001b[0;34m\u001b[0m\u001b[0;34m\u001b[0m\u001b[0m\n\u001b[0;32m--> 230\u001b[0;31m                 run_with_retry(\n\u001b[0m\u001b[1;32m    231\u001b[0m                     \u001b[0mt\u001b[0m\u001b[0;34m,\u001b[0m\u001b[0;34m\u001b[0m\u001b[0;34m\u001b[0m\u001b[0m\n\u001b[1;32m    232\u001b[0m                     \u001b[0mretry_policy\u001b[0m\u001b[0;34m,\u001b[0m\u001b[0;34m\u001b[0m\u001b[0;34m\u001b[0m\u001b[0m\n",
            "\u001b[0;32m/usr/local/lib/python3.11/dist-packages/langgraph/pregel/retry.py\u001b[0m in \u001b[0;36mrun_with_retry\u001b[0;34m(task, retry_policy, configurable)\u001b[0m\n\u001b[1;32m     38\u001b[0m             \u001b[0mtask\u001b[0m\u001b[0;34m.\u001b[0m\u001b[0mwrites\u001b[0m\u001b[0;34m.\u001b[0m\u001b[0mclear\u001b[0m\u001b[0;34m(\u001b[0m\u001b[0;34m)\u001b[0m\u001b[0;34m\u001b[0m\u001b[0;34m\u001b[0m\u001b[0m\n\u001b[1;32m     39\u001b[0m             \u001b[0;31m# run the task\u001b[0m\u001b[0;34m\u001b[0m\u001b[0;34m\u001b[0m\u001b[0m\n\u001b[0;32m---> 40\u001b[0;31m             \u001b[0;32mreturn\u001b[0m \u001b[0mtask\u001b[0m\u001b[0;34m.\u001b[0m\u001b[0mproc\u001b[0m\u001b[0;34m.\u001b[0m\u001b[0minvoke\u001b[0m\u001b[0;34m(\u001b[0m\u001b[0mtask\u001b[0m\u001b[0;34m.\u001b[0m\u001b[0minput\u001b[0m\u001b[0;34m,\u001b[0m \u001b[0mconfig\u001b[0m\u001b[0;34m)\u001b[0m\u001b[0;34m\u001b[0m\u001b[0;34m\u001b[0m\u001b[0m\n\u001b[0m\u001b[1;32m     41\u001b[0m         \u001b[0;32mexcept\u001b[0m \u001b[0mParentCommand\u001b[0m \u001b[0;32mas\u001b[0m \u001b[0mexc\u001b[0m\u001b[0;34m:\u001b[0m\u001b[0;34m\u001b[0m\u001b[0;34m\u001b[0m\u001b[0m\n\u001b[1;32m     42\u001b[0m             \u001b[0mns\u001b[0m\u001b[0;34m:\u001b[0m \u001b[0mstr\u001b[0m \u001b[0;34m=\u001b[0m \u001b[0mconfig\u001b[0m\u001b[0;34m[\u001b[0m\u001b[0mCONF\u001b[0m\u001b[0;34m]\u001b[0m\u001b[0;34m[\u001b[0m\u001b[0mCONFIG_KEY_CHECKPOINT_NS\u001b[0m\u001b[0;34m]\u001b[0m\u001b[0;34m\u001b[0m\u001b[0;34m\u001b[0m\u001b[0m\n",
            "\u001b[0;32m/usr/local/lib/python3.11/dist-packages/langgraph/utils/runnable.py\u001b[0m in \u001b[0;36minvoke\u001b[0;34m(self, input, config, **kwargs)\u001b[0m\n\u001b[1;32m    544\u001b[0m                 )\n\u001b[1;32m    545\u001b[0m                 \u001b[0;32mif\u001b[0m \u001b[0mi\u001b[0m \u001b[0;34m==\u001b[0m \u001b[0;36m0\u001b[0m\u001b[0;34m:\u001b[0m\u001b[0;34m\u001b[0m\u001b[0;34m\u001b[0m\u001b[0m\n\u001b[0;32m--> 546\u001b[0;31m                     \u001b[0minput\u001b[0m \u001b[0;34m=\u001b[0m \u001b[0mstep\u001b[0m\u001b[0;34m.\u001b[0m\u001b[0minvoke\u001b[0m\u001b[0;34m(\u001b[0m\u001b[0minput\u001b[0m\u001b[0;34m,\u001b[0m \u001b[0mconfig\u001b[0m\u001b[0;34m,\u001b[0m \u001b[0;34m**\u001b[0m\u001b[0mkwargs\u001b[0m\u001b[0;34m)\u001b[0m\u001b[0;34m\u001b[0m\u001b[0;34m\u001b[0m\u001b[0m\n\u001b[0m\u001b[1;32m    547\u001b[0m                 \u001b[0;32melse\u001b[0m\u001b[0;34m:\u001b[0m\u001b[0;34m\u001b[0m\u001b[0;34m\u001b[0m\u001b[0m\n\u001b[1;32m    548\u001b[0m                     \u001b[0minput\u001b[0m \u001b[0;34m=\u001b[0m \u001b[0mstep\u001b[0m\u001b[0;34m.\u001b[0m\u001b[0minvoke\u001b[0m\u001b[0;34m(\u001b[0m\u001b[0minput\u001b[0m\u001b[0;34m,\u001b[0m \u001b[0mconfig\u001b[0m\u001b[0;34m)\u001b[0m\u001b[0;34m\u001b[0m\u001b[0;34m\u001b[0m\u001b[0m\n",
            "\u001b[0;32m/usr/local/lib/python3.11/dist-packages/langgraph/utils/runnable.py\u001b[0m in \u001b[0;36minvoke\u001b[0;34m(self, input, config, **kwargs)\u001b[0m\n\u001b[1;32m    308\u001b[0m         \u001b[0;32melse\u001b[0m\u001b[0;34m:\u001b[0m\u001b[0;34m\u001b[0m\u001b[0;34m\u001b[0m\u001b[0m\n\u001b[1;32m    309\u001b[0m             \u001b[0mcontext\u001b[0m\u001b[0;34m.\u001b[0m\u001b[0mrun\u001b[0m\u001b[0;34m(\u001b[0m\u001b[0m_set_config_context\u001b[0m\u001b[0;34m,\u001b[0m \u001b[0mconfig\u001b[0m\u001b[0;34m)\u001b[0m\u001b[0;34m\u001b[0m\u001b[0;34m\u001b[0m\u001b[0m\n\u001b[0;32m--> 310\u001b[0;31m             \u001b[0mret\u001b[0m \u001b[0;34m=\u001b[0m \u001b[0mcontext\u001b[0m\u001b[0;34m.\u001b[0m\u001b[0mrun\u001b[0m\u001b[0;34m(\u001b[0m\u001b[0mself\u001b[0m\u001b[0;34m.\u001b[0m\u001b[0mfunc\u001b[0m\u001b[0;34m,\u001b[0m \u001b[0;34m*\u001b[0m\u001b[0margs\u001b[0m\u001b[0;34m,\u001b[0m \u001b[0;34m**\u001b[0m\u001b[0mkwargs\u001b[0m\u001b[0;34m)\u001b[0m\u001b[0;34m\u001b[0m\u001b[0;34m\u001b[0m\u001b[0m\n\u001b[0m\u001b[1;32m    311\u001b[0m         \u001b[0;32mif\u001b[0m \u001b[0misinstance\u001b[0m\u001b[0;34m(\u001b[0m\u001b[0mret\u001b[0m\u001b[0;34m,\u001b[0m \u001b[0mRunnable\u001b[0m\u001b[0;34m)\u001b[0m \u001b[0;32mand\u001b[0m \u001b[0mself\u001b[0m\u001b[0;34m.\u001b[0m\u001b[0mrecurse\u001b[0m\u001b[0;34m:\u001b[0m\u001b[0;34m\u001b[0m\u001b[0;34m\u001b[0m\u001b[0m\n\u001b[1;32m    312\u001b[0m             \u001b[0;32mreturn\u001b[0m \u001b[0mret\u001b[0m\u001b[0;34m.\u001b[0m\u001b[0minvoke\u001b[0m\u001b[0;34m(\u001b[0m\u001b[0minput\u001b[0m\u001b[0;34m,\u001b[0m \u001b[0mconfig\u001b[0m\u001b[0;34m)\u001b[0m\u001b[0;34m\u001b[0m\u001b[0;34m\u001b[0m\u001b[0m\n",
            "\u001b[0;32m<ipython-input-48-fab8fb826439>\u001b[0m in \u001b[0;36mrepair_faulty_code\u001b[0;34m(state)\u001b[0m\n\u001b[1;32m    164\u001b[0m             \u001b[0;32mif\u001b[0m \u001b[0mcnt_retry\u001b[0m \u001b[0;34m==\u001b[0m \u001b[0;36m1\u001b[0m\u001b[0;34m:\u001b[0m\u001b[0;34m\u001b[0m\u001b[0;34m\u001b[0m\u001b[0m\n\u001b[1;32m    165\u001b[0m                 \u001b[0;32mraise\u001b[0m \u001b[0mValueError\u001b[0m\u001b[0;34m(\u001b[0m\u001b[0me\u001b[0m\u001b[0;34m)\u001b[0m\u001b[0;34m\u001b[0m\u001b[0;34m\u001b[0m\u001b[0m\n\u001b[0;32m--> 166\u001b[0;31m             \u001b[0mtime\u001b[0m\u001b[0;34m.\u001b[0m\u001b[0msleep\u001b[0m\u001b[0;34m(\u001b[0m\u001b[0;36m10\u001b[0m\u001b[0;34m)\u001b[0m\u001b[0;34m\u001b[0m\u001b[0;34m\u001b[0m\u001b[0m\n\u001b[0m\u001b[1;32m    167\u001b[0m             \u001b[0mcnt_retry\u001b[0m \u001b[0;34m-=\u001b[0m \u001b[0;36m1\u001b[0m\u001b[0;34m\u001b[0m\u001b[0;34m\u001b[0m\u001b[0m\n\u001b[1;32m    168\u001b[0m \u001b[0;34m\u001b[0m\u001b[0m\n",
            "\u001b[0;31mKeyboardInterrupt\u001b[0m: "
          ]
        }
      ],
      "source": [
        "for _ in range(5):\n",
        "    for folder in tqdm.tqdm(glob.glob(\n",
        "        \"/content/codeflaws/*\"\n",
        "    )):\n",
        "        for LLM_MODEL_NAME in [\n",
        "            \"meta-llama/open-router-llama-3.1-70b-instruct:free\",\n",
        "            \"meta-llama/open-router-llama-3.1-405b-instruct:free\",\n",
        "            \"meta-llama/open-router-llama-3.2-90b-vision-instruct:free\",\n",
        "        ]:\n",
        "\n",
        "            LLM_MODEL_NAME_SPLIT = LLM_MODEL_NAME.split('/')[-1] + (\"-wo-testcases-exec\" if WITHOUT_TESTCASES_EXEC else \"\")\n",
        "            before_ask_files = []\n",
        "            try:\n",
        "                if CHECK_BEFORE_ASK:\n",
        "                    file_path = f'{PATH_FOR_RUNNING}/logfile-{LLM_MODEL_NAME_SPLIT}.txt'\n",
        "                    with open(file_path, 'r') as file:\n",
        "                        for line in file:\n",
        "                            line = line.strip()\n",
        "                            try:\n",
        "                                dictionary = json.loads(line)\n",
        "                                if isinstance(dictionary, dict):  # Ensure it's actually a dictionary\n",
        "                                    before_ask_files.append(dictionary['code_file_path'])\n",
        "                            except (ValueError, SyntaxError) as e:\n",
        "                                pass\n",
        "            except:\n",
        "                pass\n",
        "            print(LLM_MODEL_NAME_SPLIT)\n",
        "            print(len(before_ask_files))\n",
        "\n",
        "\n",
        "            global COUNT_FIX_ERROR\n",
        "            global COUNT_FAULTY_CODE\n",
        "            dct_paths = find_and_store_paths(path=folder)\n",
        "            # Get code_file and compile. Input test case and get result\n",
        "            for fl_path in dct_paths['unique_files']:\n",
        "                fl_path_win2colab = \"\"\n",
        "                if RUN_ON_WINDOWS:\n",
        "                    fl_path = '/'.join(fl_path.split('\\\\'))\n",
        "                    fl_path_win2colab = \"/content/codeflaws\" + fl_path.split(\"codeflaws\")[-1]\n",
        "                if (fl_path.endswith('.c') and\n",
        "                    (\n",
        "                        fl_path not in before_ask_files and\n",
        "                        fl_path_win2colab not in before_ask_files\n",
        "                    )\n",
        "                ):\n",
        "                        print(fl_path)\n",
        "                        inputs = {\n",
        "                            \"list_failed_test_cases_count\": [],\n",
        "                            \"llm_model_name\": LLM_MODEL_NAME,\n",
        "                            \"code_file_path\": fl_path,\n",
        "                            \"test_case_paths\": dct_paths[\"duplicate_files\"],\n",
        "                            \"apply_sbfl\": APPLY_SBFL,\n",
        "                            \"sbfl_formula\": \"Ochiai\",\n",
        "                            \"sbfl_likelihood\": 0.5,\n",
        "                            \"max_try_count\": 2,\n",
        "                            \"try_count\": 0,\n",
        "                            \"messages\": []\n",
        "                        }\n",
        "                        run_graph(graph, inputs)\n",
        "            try:\n",
        "                print(f\"{(COUNT_FIX_ERROR / COUNT_FAULTY_CODE)*100} %\")\n",
        "            except:\n",
        "                pass\n",
        "            if not COUNT_FAULTY_CODE % 10:\n",
        "                clear_output()"
      ]
    },
    {
      "cell_type": "code",
      "execution_count": null,
      "id": "pRA2NNcvQJNS",
      "metadata": {
        "id": "pRA2NNcvQJNS"
      },
      "outputs": [],
      "source": []
    }
  ],
  "metadata": {
    "colab": {
      "collapsed_sections": [
        "14d984a9"
      ],
      "provenance": []
    },
    "kaggle": {
      "accelerator": "none",
      "dataSources": [
        {
          "sourceId": 188353168,
          "sourceType": "kernelVersion"
        }
      ],
      "dockerImageVersionId": 30746,
      "isGpuEnabled": false,
      "isInternetEnabled": true,
      "language": "python",
      "sourceType": "notebook"
    },
    "kernelspec": {
      "display_name": "Python 3 (ipykernel)",
      "language": "python",
      "name": "python3"
    },
    "language_info": {
      "codemirror_mode": {
        "name": "ipython",
        "version": 3
      },
      "file_extension": ".py",
      "mimetype": "text/x-python",
      "name": "python",
      "nbconvert_exporter": "python",
      "pygments_lexer": "ipython3",
      "version": "3.11.9"
    },
    "papermill": {
      "default_parameters": {},
      "duration": 37276.805327,
      "end_time": "2024-08-04T06:35:33.752116",
      "environment_variables": {},
      "exception": null,
      "input_path": "__notebook__.ipynb",
      "output_path": "__notebook__.ipynb",
      "parameters": {},
      "start_time": "2024-08-03T20:14:16.946789",
      "version": "2.5.0"
    }
  },
  "nbformat": 4,
  "nbformat_minor": 5
}
